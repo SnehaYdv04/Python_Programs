{
 "cells": [
  {
   "cell_type": "code",
   "execution_count": 6,
   "id": "a828bb98-b009-41fd-a41e-d09cf590fe9b",
   "metadata": {},
   "outputs": [
    {
     "name": "stdout",
     "output_type": "stream",
     "text": [
      "The age of the person in year is 20 years\n"
     ]
    }
   ],
   "source": [
    "#Finding age when cuurent year and bornyear is given:-\n",
    "def age_calculator(current_year,birth_year):\n",
    "    age=current_year-birth_year\n",
    "    print(\"The age of the person in year is\",age,\"years\")\n",
    "age_calculator(2024,2004)"
   ]
  },
  {
   "cell_type": "code",
   "execution_count": 13,
   "id": "1cc79147-c123-4d62-a293-1b75fe5a50d1",
   "metadata": {},
   "outputs": [
    {
     "name": "stdin",
     "output_type": "stream",
     "text": [
      "enter your current_year= 2024\n",
      "enter your birth_year= 2004\n"
     ]
    },
    {
     "name": "stdout",
     "output_type": "stream",
     "text": [
      "age is 20\n"
     ]
    }
   ],
   "source": [
    "#Finding age of the person by taking input from user:-\n",
    "current_year=int(input(\"enter your current_year=\"))\n",
    "birth_year=int(input(\"enter your birth_year=\"))\n",
    "age=current_year-birth_year\n",
    "print(\"age is\",age)"
   ]
  },
  {
   "cell_type": "code",
   "execution_count": null,
   "id": "21ec705e-367a-4c02-be7b-97c06623c61b",
   "metadata": {},
   "outputs": [],
   "source": []
  }
 ],
 "metadata": {
  "kernelspec": {
   "display_name": "Python 3 (ipykernel)",
   "language": "python",
   "name": "python3"
  },
  "language_info": {
   "codemirror_mode": {
    "name": "ipython",
    "version": 3
   },
   "file_extension": ".py",
   "mimetype": "text/x-python",
   "name": "python",
   "nbconvert_exporter": "python",
   "pygments_lexer": "ipython3",
   "version": "3.12.4"
  }
 },
 "nbformat": 4,
 "nbformat_minor": 5
}

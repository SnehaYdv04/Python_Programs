{
 "cells": [
  {
   "cell_type": "code",
   "execution_count": 1,
   "id": "6bdbec0c-92bb-47e1-a14a-33d7b063df4e",
   "metadata": {},
   "outputs": [
    {
     "name": "stdout",
     "output_type": "stream",
     "text": [
      "1\n",
      "2\n",
      "3\n",
      "4\n",
      "5\n",
      "6\n",
      "7\n",
      "8\n",
      "9\n",
      "10\n"
     ]
    }
   ],
   "source": [
    "x=1\n",
    "while x<11:\n",
    "    print(x)\n",
    "    x=x+1"
   ]
  },
  {
   "cell_type": "code",
   "execution_count": 9,
   "id": "b3635c08-82df-4046-9e75-23d1c9a9b1f5",
   "metadata": {},
   "outputs": [
    {
     "name": "stdout",
     "output_type": "stream",
     "text": [
      "10\n",
      "9\n",
      "8\n",
      "7\n",
      "6\n",
      "5\n",
      "4\n",
      "3\n",
      "2\n",
      "1\n"
     ]
    }
   ],
   "source": [
    "#print 10 to 1\n",
    "x=10\n",
    "while x>=1:\n",
    "    print(x)\n",
    "    x=x-1"
   ]
  },
  {
   "cell_type": "code",
   "execution_count": 19,
   "id": "8b86ed00-476a-4ded-abd7-c4263647daa6",
   "metadata": {},
   "outputs": [
    {
     "name": "stdin",
     "output_type": "stream",
     "text": [
      "enter the no from table= 6\n"
     ]
    },
    {
     "name": "stdout",
     "output_type": "stream",
     "text": [
      "6\n",
      "12\n",
      "18\n",
      "24\n",
      "30\n",
      "36\n",
      "42\n",
      "48\n",
      "54\n",
      "60\n"
     ]
    }
   ],
   "source": [
    "#print table no\n",
    "no=int(input(\"enter the no from table=\"))\n",
    "a=1\n",
    "while a<11:\n",
    "    print(a*no)\n",
    "    a=a+1\n",
    "    "
   ]
  },
  {
   "cell_type": "code",
   "execution_count": 27,
   "id": "d3a7ebd2-60f6-46aa-8217-48acda50226e",
   "metadata": {},
   "outputs": [
    {
     "name": "stdin",
     "output_type": "stream",
     "text": [
      "enter the no for table= 7\n"
     ]
    },
    {
     "name": "stdout",
     "output_type": "stream",
     "text": [
      "35\n",
      "28\n",
      "21\n",
      "14\n",
      "7\n"
     ]
    }
   ],
   "source": [
    "#print reverse table\n",
    "no=int(input(\"enter the no for table=\"))\n",
    "a=5\n",
    "while a>=1:\n",
    "    print(a*no)\n",
    "    a=a-1"
   ]
  },
  {
   "cell_type": "code",
   "execution_count": 31,
   "id": "ab68c4a4-a773-4712-9e8a-cfcc19c32e5b",
   "metadata": {},
   "outputs": [
    {
     "name": "stdout",
     "output_type": "stream",
     "text": [
      "1\n",
      "4\n",
      "7\n",
      "10\n",
      "13\n",
      "16\n"
     ]
    }
   ],
   "source": [
    "#pattern printing ex=1,4,7,10,13,16\n",
    "#c=1,operation c=c+3,end point 17\n",
    "c=1\n",
    "while c<17:\n",
    "    print(c)\n",
    "    c=c+3"
   ]
  },
  {
   "cell_type": "code",
   "execution_count": 35,
   "id": "43bd7bf7-1f07-46ab-9abd-25749a6ff246",
   "metadata": {},
   "outputs": [
    {
     "name": "stdout",
     "output_type": "stream",
     "text": [
      "21\n",
      "16\n",
      "11\n",
      "6\n",
      "1\n"
     ]
    }
   ],
   "source": [
    "#print this pattern 21 16 11 6 1\n",
    "c=21\n",
    "while c>=1:\n",
    "    print(c)\n",
    "    c=c-5"
   ]
  },
  {
   "cell_type": "code",
   "execution_count": 75,
   "id": "91387330-77f7-492c-bb80-d39b01952216",
   "metadata": {},
   "outputs": [
    {
     "name": "stdout",
     "output_type": "stream",
     "text": [
      "1\n",
      "7\n",
      "19\n",
      "25\n"
     ]
    }
   ],
   "source": [
    "#print the pattern 1 7 19 25\n",
    "e=1\n",
    "while e<26:\n",
    "     \n",
    "    if e!=13:\n",
    "         print(e)\n",
    "    e=e+6"
   ]
  },
  {
   "cell_type": "code",
   "execution_count": 79,
   "id": "1641687b-4a3b-4356-92bd-f79897ed84c2",
   "metadata": {},
   "outputs": [
    {
     "name": "stdout",
     "output_type": "stream",
     "text": [
      "My name is Sneha Yadav\n"
     ]
    }
   ],
   "source": [
    "#function can perform any task\n",
    "#it can be reuse, function will return the result\n",
    "def printName():\n",
    "    print(\"My name is Sneha Yadav\")\n",
    "#call function to print the name\n",
    "printName()"
   ]
  },
  {
   "cell_type": "code",
   "execution_count": 85,
   "id": "d9df9229-87e4-4aee-b6bd-40b183281b37",
   "metadata": {},
   "outputs": [
    {
     "ename": "IndentationError",
     "evalue": "expected an indented block after function definition on line 2 (1023651592.py, line 3)",
     "output_type": "error",
     "traceback": [
      "\u001b[1;36m  Cell \u001b[1;32mIn[85], line 3\u001b[1;36m\u001b[0m\n\u001b[1;33m    def printFullName(firstname,lastname):\u001b[0m\n\u001b[1;37m    ^\u001b[0m\n\u001b[1;31mIndentationError\u001b[0m\u001b[1;31m:\u001b[0m expected an indented block after function definition on line 2\n"
     ]
    }
   ],
   "source": [
    "#create function to concatenate fname and lname from userfname= input(\"Enter your first name=\")lname=input(\"Enter your last name=\")\n",
    "def printName():\n",
    "def printFullName(firstname,lastname):\n",
    "    print(firstname+lastname)\n",
    "\n",
    "    printfullname(fname,lname)"
   ]
  },
  {
   "cell_type": "code",
   "execution_count": null,
   "id": "e46d9faf-2c13-4564-ae22-f90d3cef4a07",
   "metadata": {},
   "outputs": [],
   "source": [
    "#"
   ]
  },
  {
   "cell_type": "code",
   "execution_count": null,
   "id": "6e4e1f8b-421e-4cf4-ad9d-f15f166ea12e",
   "metadata": {},
   "outputs": [],
   "source": []
  }
 ],
 "metadata": {
  "kernelspec": {
   "display_name": "Python 3 (ipykernel)",
   "language": "python",
   "name": "python3"
  },
  "language_info": {
   "codemirror_mode": {
    "name": "ipython",
    "version": 3
   },
   "file_extension": ".py",
   "mimetype": "text/x-python",
   "name": "python",
   "nbconvert_exporter": "python",
   "pygments_lexer": "ipython3",
   "version": "3.12.4"
  }
 },
 "nbformat": 4,
 "nbformat_minor": 5
}

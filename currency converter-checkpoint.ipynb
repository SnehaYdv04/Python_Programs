{
 "cells": [
  {
   "cell_type": "code",
   "execution_count": 1,
   "id": "dca7376d-55f1-4e24-a4e0-cda0a32aca8e",
   "metadata": {},
   "outputs": [
    {
     "name": "stdin",
     "output_type": "stream",
     "text": [
      "Enter dollars= 5\n"
     ]
    },
    {
     "name": "stdout",
     "output_type": "stream",
     "text": [
      "dollar in rupees= 419.5\n"
     ]
    }
   ],
   "source": [
    "#currency converter:-\n",
    "dollars=float(input(\"Enter dollars=\"))\n",
    "rupees=83.9*dollars\n",
    "print(\"dollar in rupees=\",rupees)"
   ]
  },
  {
   "cell_type": "code",
   "execution_count": null,
   "id": "78049971-72ea-468e-aa5d-93a75cdfdd48",
   "metadata": {},
   "outputs": [],
   "source": []
  }
 ],
 "metadata": {
  "kernelspec": {
   "display_name": "Python 3 (ipykernel)",
   "language": "python",
   "name": "python3"
  },
  "language_info": {
   "codemirror_mode": {
    "name": "ipython",
    "version": 3
   },
   "file_extension": ".py",
   "mimetype": "text/x-python",
   "name": "python",
   "nbconvert_exporter": "python",
   "pygments_lexer": "ipython3",
   "version": "3.12.4"
  }
 },
 "nbformat": 4,
 "nbformat_minor": 5
}

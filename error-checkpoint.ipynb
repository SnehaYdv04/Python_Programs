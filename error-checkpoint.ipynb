{
 "cells": [
  {
   "cell_type": "code",
   "execution_count": 2,
   "id": "de622744-8747-4291-96a9-f15169465f66",
   "metadata": {},
   "outputs": [
    {
     "name": "stdout",
     "output_type": "stream",
     "text": [
      "x is not defined\n"
     ]
    }
   ],
   "source": [
    "#print(x)\n",
    "#error 1\n",
    "try:\n",
    "    print(x)\n",
    "except NameError:\n",
    "    print(\"x is not defined\")"
   ]
  },
  {
   "cell_type": "code",
   "execution_count": 3,
   "id": "48796911-3a4e-4d06-84e6-388bbed0f2b7",
   "metadata": {},
   "outputs": [
    {
     "name": "stdout",
     "output_type": "stream",
     "text": [
      "python8\n"
     ]
    }
   ],
   "source": [
    "#2 error type in python\n",
    "x=\"python\"\n",
    "y=\"8\"\n",
    "c=x+y\n",
    "print(c)"
   ]
  },
  {
   "cell_type": "code",
   "execution_count": 6,
   "id": "018c778c-2c76-4850-9890-7d1aadc497d0",
   "metadata": {},
   "outputs": [
    {
     "name": "stdout",
     "output_type": "stream",
     "text": [
      "division by zero error\n"
     ]
    }
   ],
   "source": [
    "#error 3\n",
    "#y=1/0\n",
    "try:\n",
    "    y=1/0\n",
    "except ZeroDivisionError:\n",
    "    print(\"division by zero error\")"
   ]
  },
  {
   "cell_type": "code",
   "execution_count": 10,
   "id": "123490cf-b021-4d92-90e9-202f13728729",
   "metadata": {},
   "outputs": [
    {
     "name": "stdout",
     "output_type": "stream",
     "text": [
      "string cannot be converted into integer\n"
     ]
    }
   ],
   "source": [
    "#error 4\n",
    "name=\"sneha\"\n",
    "#no=int(name)\n",
    "try:\n",
    "    no=int(name)\n",
    "except ValueError:\n",
    "    print(\"string cannot be converted into integer\")"
   ]
  },
  {
   "cell_type": "code",
   "execution_count": 13,
   "id": "cdd276fa-9241-48d3-b643-62447b789ee9",
   "metadata": {},
   "outputs": [
    {
     "name": "stdout",
     "output_type": "stream",
     "text": [
      "index 4 is not available\n"
     ]
    }
   ],
   "source": [
    "#error 5\n",
    "friends=[\"ivan\",\"anshu\",\"vani\"]\n",
    "#friends[4]\n",
    "try:\n",
    "    friends[4]\n",
    "except IndexError:\n",
    "    print(\"index 4 is not available\")"
   ]
  },
  {
   "cell_type": "code",
   "execution_count": 16,
   "id": "674d5eae-b066-4689-b16b-c75474629a23",
   "metadata": {},
   "outputs": [
    {
     "name": "stdout",
     "output_type": "stream",
     "text": [
      "string and integer type can't concatenate with each other\n"
     ]
    }
   ],
   "source": [
    "#error 6\n",
    "amount=500\n",
    "email=\"s@gmail.com\"\n",
    "#total=amount + email\n",
    "try:\n",
    "    total=amount+email\n",
    "except TypeError:\n",
    "    print(\"string and integer type can't concatenate with each other\") \n"
   ]
  },
  {
   "cell_type": "code",
   "execution_count": null,
   "id": "7f9bc671-dc62-4a96-9736-875e7b8df0d5",
   "metadata": {},
   "outputs": [],
   "source": []
  },
  {
   "cell_type": "code",
   "execution_count": null,
   "id": "ac333422-0002-48cd-b27e-4d81fa6246a7",
   "metadata": {},
   "outputs": [],
   "source": []
  },
  {
   "cell_type": "code",
   "execution_count": null,
   "id": "c6f0f1ce-3a71-4ea1-924c-894715211bf4",
   "metadata": {},
   "outputs": [],
   "source": []
  },
  {
   "cell_type": "code",
   "execution_count": null,
   "id": "42a45fa3-22a7-4a9d-b0ec-b1f13670c119",
   "metadata": {},
   "outputs": [],
   "source": []
  }
 ],
 "metadata": {
  "kernelspec": {
   "display_name": "Python 3 (ipykernel)",
   "language": "python",
   "name": "python3"
  },
  "language_info": {
   "codemirror_mode": {
    "name": "ipython",
    "version": 3
   },
   "file_extension": ".py",
   "mimetype": "text/x-python",
   "name": "python",
   "nbconvert_exporter": "python",
   "pygments_lexer": "ipython3",
   "version": "3.12.4"
  }
 },
 "nbformat": 4,
 "nbformat_minor": 5
}
